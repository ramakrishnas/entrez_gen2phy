{
 "metadata": {
  "name": "",
  "signature": "sha256:8814c221aa569ba416b5376f4847a508c781e368b9546a444c2bbd20e5c6f8e3"
 },
 "nbformat": 3,
 "nbformat_minor": 0,
 "worksheets": [
  {
   "cells": [
    {
     "cell_type": "code",
     "collapsed": false,
     "input": [
      "%entrez inline"
     ],
     "language": "python",
     "metadata": {},
     "outputs": [
      {
       "output_type": "stream",
       "stream": "stderr",
       "text": [
        "ERROR: Line magic function `%entrez` not found.\n"
       ]
      }
     ],
     "prompt_number": 1
    },
    {
     "cell_type": "code",
     "collapsed": false,
     "input": [
      "from Bio import Entrez, SeqIO\n",
      "Entrez.email = \"rama-sompallae@uiowa.edu\"\n",
      "handle = Entrez.einfo()\n",
      "result = handle.read()\n",
      "'''\n",
      "record = Entrez.read(handle)\n",
      "record.keys()\n",
      "record[\"DbList\"]\n",
      "'''\n",
      "print result"
     ],
     "language": "python",
     "metadata": {},
     "outputs": [
      {
       "output_type": "stream",
       "stream": "stdout",
       "text": [
        "<?xml version=\"1.0\" encoding=\"UTF-8\"?>\n",
        "<!DOCTYPE eInfoResult PUBLIC \"-//NLM//DTD einfo 20130322//EN\" \"http://eutils.ncbi.nlm.nih.gov/eutils/dtd/20130322/einfo.dtd\">\n",
        "<eInfoResult>\n",
        "<DbList>\n",
        "\n",
        "\t<DbName>pubmed</DbName>\n",
        "\t<DbName>protein</DbName>\n",
        "\t<DbName>nuccore</DbName>\n",
        "\t<DbName>nucleotide</DbName>\n",
        "\t<DbName>nucgss</DbName>\n",
        "\t<DbName>nucest</DbName>\n",
        "\t<DbName>structure</DbName>\n",
        "\t<DbName>genome</DbName>\n",
        "\t<DbName>assembly</DbName>\n",
        "\t<DbName>genomeprj</DbName>\n",
        "\t<DbName>bioproject</DbName>\n",
        "\t<DbName>biosample</DbName>\n",
        "\t<DbName>blastdbinfo</DbName>\n",
        "\t<DbName>books</DbName>\n",
        "\t<DbName>cdd</DbName>\n",
        "\t<DbName>clinvar</DbName>\n",
        "\t<DbName>clone</DbName>\n",
        "\t<DbName>gap</DbName>\n",
        "\t<DbName>gapplus</DbName>\n",
        "\t<DbName>dbvar</DbName>\n",
        "\t<DbName>epigenomics</DbName>\n",
        "\t<DbName>gene</DbName>\n",
        "\t<DbName>gds</DbName>\n",
        "\t<DbName>geoprofiles</DbName>\n",
        "\t<DbName>homologene</DbName>\n",
        "\t<DbName>medgen</DbName>\n",
        "\t<DbName>journals</DbName>\n",
        "\t<DbName>mesh</DbName>\n",
        "\t<DbName>ncbisearch</DbName>\n",
        "\t<DbName>nlmcatalog</DbName>\n",
        "\t<DbName>omim</DbName>\n",
        "\t<DbName>orgtrack</DbName>\n",
        "\t<DbName>pmc</DbName>\n",
        "\t<DbName>popset</DbName>\n",
        "\t<DbName>probe</DbName>\n",
        "\t<DbName>proteinclusters</DbName>\n",
        "\t<DbName>pcassay</DbName>\n",
        "\t<DbName>biosystems</DbName>\n",
        "\t<DbName>pccompound</DbName>\n",
        "\t<DbName>pcsubstance</DbName>\n",
        "\t<DbName>pubmedhealth</DbName>\n",
        "\t<DbName>seqannot</DbName>\n",
        "\t<DbName>snp</DbName>\n",
        "\t<DbName>sra</DbName>\n",
        "\t<DbName>taxonomy</DbName>\n",
        "\t<DbName>toolkit</DbName>\n",
        "\t<DbName>toolkitall</DbName>\n",
        "\t<DbName>toolkitbook</DbName>\n",
        "\t<DbName>unigene</DbName>\n",
        "\t<DbName>gencoll</DbName>\n",
        "\t<DbName>gtr</DbName>\n",
        "</DbList>\n",
        "\n",
        "</eInfoResult>\n",
        "\n"
       ]
      }
     ],
     "prompt_number": 21
    },
    {
     "cell_type": "markdown",
     "metadata": {},
     "source": [
      "Text goes here"
     ]
    },
    {
     "cell_type": "code",
     "collapsed": false,
     "input": [
      "from Bio import Entrez, SeqIO\n",
      "handle = Entrez.efetch(db=\"gene\", id=\"PKD1\",rettype=\"gb\", retmode=\"text\")\n",
      "record = SeqIO.read(handle, \"genbank\")\n",
      "handle.close()\n",
      "print record"
     ],
     "language": "python",
     "metadata": {},
     "outputs": [
      {
       "ename": "ValueError",
       "evalue": "No records found in handle",
       "output_type": "pyerr",
       "traceback": [
        "\u001b[0;31m---------------------------------------------------------------------------\u001b[0m\n\u001b[0;31mValueError\u001b[0m                                Traceback (most recent call last)",
        "\u001b[0;32m<ipython-input-20-0d8b50895189>\u001b[0m in \u001b[0;36m<module>\u001b[0;34m()\u001b[0m\n\u001b[1;32m      1\u001b[0m \u001b[0;32mfrom\u001b[0m \u001b[0mBio\u001b[0m \u001b[0;32mimport\u001b[0m \u001b[0mEntrez\u001b[0m\u001b[0;34m,\u001b[0m \u001b[0mSeqIO\u001b[0m\u001b[0;34m\u001b[0m\u001b[0m\n\u001b[1;32m      2\u001b[0m \u001b[0mhandle\u001b[0m \u001b[0;34m=\u001b[0m \u001b[0mEntrez\u001b[0m\u001b[0;34m.\u001b[0m\u001b[0mefetch\u001b[0m\u001b[0;34m(\u001b[0m\u001b[0mdb\u001b[0m\u001b[0;34m=\u001b[0m\u001b[0;34m\"gene\"\u001b[0m\u001b[0;34m,\u001b[0m \u001b[0mid\u001b[0m\u001b[0;34m=\u001b[0m\u001b[0;34m\"PKD1\"\u001b[0m\u001b[0;34m,\u001b[0m\u001b[0mrettype\u001b[0m\u001b[0;34m=\u001b[0m\u001b[0;34m\"gb\"\u001b[0m\u001b[0;34m,\u001b[0m \u001b[0mretmode\u001b[0m\u001b[0;34m=\u001b[0m\u001b[0;34m\"text\"\u001b[0m\u001b[0;34m)\u001b[0m\u001b[0;34m\u001b[0m\u001b[0m\n\u001b[0;32m----> 3\u001b[0;31m \u001b[0mrecord\u001b[0m \u001b[0;34m=\u001b[0m \u001b[0mSeqIO\u001b[0m\u001b[0;34m.\u001b[0m\u001b[0mread\u001b[0m\u001b[0;34m(\u001b[0m\u001b[0mhandle\u001b[0m\u001b[0;34m,\u001b[0m \u001b[0;34m\"genbank\"\u001b[0m\u001b[0;34m)\u001b[0m\u001b[0;34m\u001b[0m\u001b[0m\n\u001b[0m\u001b[1;32m      4\u001b[0m \u001b[0mhandle\u001b[0m\u001b[0;34m.\u001b[0m\u001b[0mclose\u001b[0m\u001b[0;34m(\u001b[0m\u001b[0;34m)\u001b[0m\u001b[0;34m\u001b[0m\u001b[0m\n\u001b[1;32m      5\u001b[0m \u001b[0;32mprint\u001b[0m \u001b[0mrecord\u001b[0m\u001b[0;34m\u001b[0m\u001b[0m\n",
        "\u001b[0;32m/Users/ramakrishnasompallae/Library/Python/2.7/site-packages/Bio/SeqIO/__init__.pyc\u001b[0m in \u001b[0;36mread\u001b[0;34m(handle, format, alphabet)\u001b[0m\n\u001b[1;32m    583\u001b[0m         \u001b[0mfirst\u001b[0m \u001b[0;34m=\u001b[0m \u001b[0mNone\u001b[0m\u001b[0;34m\u001b[0m\u001b[0m\n\u001b[1;32m    584\u001b[0m     \u001b[0;32mif\u001b[0m \u001b[0mfirst\u001b[0m \u001b[0;32mis\u001b[0m \u001b[0mNone\u001b[0m\u001b[0;34m:\u001b[0m\u001b[0;34m\u001b[0m\u001b[0m\n\u001b[0;32m--> 585\u001b[0;31m         \u001b[0;32mraise\u001b[0m \u001b[0mValueError\u001b[0m\u001b[0;34m(\u001b[0m\u001b[0;34m\"No records found in handle\"\u001b[0m\u001b[0;34m)\u001b[0m\u001b[0;34m\u001b[0m\u001b[0m\n\u001b[0m\u001b[1;32m    586\u001b[0m     \u001b[0;32mtry\u001b[0m\u001b[0;34m:\u001b[0m\u001b[0;34m\u001b[0m\u001b[0m\n\u001b[1;32m    587\u001b[0m         \u001b[0msecond\u001b[0m \u001b[0;34m=\u001b[0m \u001b[0miterator\u001b[0m\u001b[0;34m.\u001b[0m\u001b[0mnext\u001b[0m\u001b[0;34m(\u001b[0m\u001b[0;34m)\u001b[0m\u001b[0;34m\u001b[0m\u001b[0m\n",
        "\u001b[0;31mValueError\u001b[0m: No records found in handle"
       ]
      }
     ],
     "prompt_number": 20
    },
    {
     "cell_type": "code",
     "collapsed": false,
     "input": [],
     "language": "python",
     "metadata": {},
     "outputs": []
    }
   ],
   "metadata": {}
  }
 ]
}